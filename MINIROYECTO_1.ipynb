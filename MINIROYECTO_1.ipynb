{
 "cells": [
  {
   "cell_type": "markdown",
   "id": "dc033504",
   "metadata": {},
   "source": [
    "# <font color=' BLUE'>  MINIPROYECTO 1<FONT>"
   ]
  },
  {
   "cell_type": "markdown",
   "id": "a914a633",
   "metadata": {},
   "source": [
    "#  <font color='purple'> ------------ PRIMERA PARTE ------------ </font>"
   ]
  },
  {
   "cell_type": "markdown",
   "id": "5547b3ad",
   "metadata": {},
   "source": [
    "### <font color='DARK ORANGE'> 1.1 Importar librerias </font>"
   ]
  },
  {
   "cell_type": "code",
   "execution_count": 79,
   "id": "a3350b09",
   "metadata": {},
   "outputs": [],
   "source": [
    "import pandas as pd\n",
    "import re\n",
    "import numpy as np\n",
    "import random \n",
    "import seaborn as sns\n",
    "from scipy import stats\n",
    "from sklearn.impute import SimpleImputer\n",
    "import matplotlib.pyplot as plt\n",
    "from scipy.stats import multivariate_normal"
   ]
  },
  {
   "cell_type": "markdown",
   "id": "3f726441",
   "metadata": {},
   "source": [
    "### <font color='DARK ORANGE'> 1.2 CARGAR ARCHIVO CSV </font>"
   ]
  },
  {
   "cell_type": "code",
   "execution_count": null,
   "id": "9ea8222f",
   "metadata": {},
   "outputs": [],
   "source": [
    "df = pd.read_csv('ejemplo_data.csv')"
   ]
  },
  {
   "cell_type": "markdown",
   "id": "c456eff7",
   "metadata": {},
   "source": [
    "### <font color='DARK ORANGE'> 1.3 Identifique los tipos de varibles (astype) </font>"
   ]
  },
  {
   "cell_type": "code",
   "execution_count": null,
   "id": "ec485ce7",
   "metadata": {
    "scrolled": true
   },
   "outputs": [],
   "source": [
    "df"
   ]
  },
  {
   "cell_type": "code",
   "execution_count": null,
   "id": "3cc93051",
   "metadata": {},
   "outputs": [],
   "source": [
    "df.ID = df.ID.astype('int')\n",
    "df.at[5,'Activo'] = 0"
   ]
  },
  {
   "cell_type": "markdown",
   "id": "67f12a0d",
   "metadata": {},
   "source": [
    "### <font color='DARK ORANGE'> 1.F </font>"
   ]
  },
  {
   "cell_type": "markdown",
   "id": "c349a55d",
   "metadata": {},
   "source": [
    " PASOS\n",
    " \n",
    " Se eliminaron los caracteres de '$' Y '-', de la columna 2016\n",
    " \n",
    " Se remplazó el caracter  ',' por  '', y los valores se agregaron a una lista llamada m\n",
    " \n",
    " los valores de la lista m se convirtieron a float 64\n",
    " \n",
    " Se eliminó la columna 2016 y se remplazó por la lista ml con los datos float de la lista m"
   ]
  },
  {
   "cell_type": "code",
   "execution_count": null,
   "id": "0fa69ddb",
   "metadata": {
    "scrolled": false
   },
   "outputs": [],
   "source": [
    "df['2016'] = df['2016'].str.replace('$','').str.replace('-','')"
   ]
  },
  {
   "cell_type": "code",
   "execution_count": null,
   "id": "6f6d5198",
   "metadata": {},
   "outputs": [],
   "source": [
    "m = []\n",
    "ml = []\n",
    "\n",
    "for i in df['2016']:\n",
    "    k = re.sub(',','',i)\n",
    "    m.append(k)\n",
    "\n",
    "for i in m:\n",
    "    nu = float(i)\n",
    "    ml.append(nu)"
   ]
  },
  {
   "cell_type": "code",
   "execution_count": null,
   "id": "57f142a2",
   "metadata": {},
   "outputs": [],
   "source": [
    "#del(df['2016'])"
   ]
  },
  {
   "cell_type": "code",
   "execution_count": null,
   "id": "81e57527",
   "metadata": {},
   "outputs": [],
   "source": [
    "#df.insert(2, \"2016\", ml, allow_duplicates=False)"
   ]
  },
  {
   "cell_type": "code",
   "execution_count": null,
   "id": "b5899598",
   "metadata": {},
   "outputs": [],
   "source": [
    "df.info()"
   ]
  },
  {
   "cell_type": "code",
   "execution_count": null,
   "id": "164a6969",
   "metadata": {},
   "outputs": [],
   "source": [
    "df.at[5,'Unidades'] = 0\n",
    "df.at[4,'Unidades'] = 0"
   ]
  },
  {
   "cell_type": "code",
   "execution_count": null,
   "id": "17dea883",
   "metadata": {},
   "outputs": [],
   "source": [
    "df['Unidades']= df['Unidades'].astype(int)"
   ]
  },
  {
   "cell_type": "code",
   "execution_count": null,
   "id": "01f39c94",
   "metadata": {},
   "outputs": [],
   "source": [
    "df.info()"
   ]
  },
  {
   "cell_type": "markdown",
   "id": "318cf3aa",
   "metadata": {},
   "source": [
    "# <font color='purple'> ------------ SEGUNDA PARTE ------------ <font>"
   ]
  },
  {
   "cell_type": "markdown",
   "id": "1f01607b",
   "metadata": {},
   "source": [
    "## <font color = 'dark orange'> 2.1 CREACION DEL DICCIONARIO <font> "
   ]
  },
  {
   "cell_type": "code",
   "execution_count": null,
   "id": "be5c335b",
   "metadata": {},
   "outputs": [],
   "source": [
    "rut = [] #listo\n",
    "edad = [] #listo\n",
    "altura = [] #listo\n",
    "peso = [] #listo"
   ]
  },
  {
   "cell_type": "code",
   "execution_count": null,
   "id": "40ce0209",
   "metadata": {},
   "outputs": [],
   "source": [
    "for k in range(0,20):\n",
    "    rut.append(np.random.randint(12000000,19000000))\n",
    "    edad.append(np.random.randint(35,50))\n",
    "    altura.append(round(np.random.uniform(0.75,1.0),2)+1)\n",
    "    peso.append(round(np.random.randint(70,100),0))"
   ]
  },
  {
   "cell_type": "code",
   "execution_count": null,
   "id": "003cda08",
   "metadata": {},
   "outputs": [],
   "source": [
    "d ={'Rut': rut,'Edad':edad,'Altura': altura,'Peso':peso}"
   ]
  },
  {
   "cell_type": "markdown",
   "id": "a1794346",
   "metadata": {},
   "source": [
    "## <font color='DARK ORANGE'> 2.2 DICCIONARIO A DATAFRAME </font>"
   ]
  },
  {
   "cell_type": "code",
   "execution_count": null,
   "id": "ea84a80e",
   "metadata": {},
   "outputs": [],
   "source": [
    "df_2 = pd.DataFrame(d)\n",
    "df_2.index +=1"
   ]
  },
  {
   "cell_type": "code",
   "execution_count": null,
   "id": "867975b1",
   "metadata": {},
   "outputs": [],
   "source": [
    "df_2"
   ]
  },
  {
   "cell_type": "markdown",
   "id": "c76507fe",
   "metadata": {},
   "source": [
    "## <font color='DARK ORANGE'> 2.3 ESTADISTICAS DESCRIPTIVAS DE TENDENCIA CENTRAL </font>"
   ]
  },
  {
   "cell_type": "code",
   "execution_count": null,
   "id": "6655c968",
   "metadata": {},
   "outputs": [],
   "source": [
    "# media arítmetica\n",
    "np.mean(df_2,0)"
   ]
  },
  {
   "cell_type": "code",
   "execution_count": null,
   "id": "b5bae612",
   "metadata": {
    "scrolled": true
   },
   "outputs": [],
   "source": [
    "# media aritmetica de cada columna\n",
    "np.median(df_2, 0)"
   ]
  },
  {
   "cell_type": "markdown",
   "id": "1707a43e",
   "metadata": {},
   "source": [
    "## <font color='DARK ORANGE'> 2.4 ESTADISTICAS DESCRIPTIVAS DE DISPERCION  </font>"
   ]
  },
  {
   "cell_type": "code",
   "execution_count": null,
   "id": "836d0904",
   "metadata": {},
   "outputs": [],
   "source": [
    "# Desviación típica\n",
    "np.std(df_2)"
   ]
  },
  {
   "cell_type": "code",
   "execution_count": null,
   "id": "9f9d5b74",
   "metadata": {},
   "outputs": [],
   "source": [
    "# Desviación típica de cada columna\n",
    "np.std(df_2, 0)"
   ]
  },
  {
   "cell_type": "code",
   "execution_count": null,
   "id": "dc6a429e",
   "metadata": {},
   "outputs": [],
   "source": [
    "# varianza de cada columna\n",
    "np.var(df_2, 0)"
   ]
  },
  {
   "cell_type": "code",
   "execution_count": null,
   "id": "ccf5ce33",
   "metadata": {},
   "outputs": [],
   "source": [
    "# moda de cada columna\n",
    "stats.mode(df_2) "
   ]
  },
  {
   "cell_type": "code",
   "execution_count": null,
   "id": "691dc068",
   "metadata": {},
   "outputs": [],
   "source": [
    "# covarianza\n",
    "np.cov(df_2)"
   ]
  },
  {
   "cell_type": "code",
   "execution_count": null,
   "id": "fb44d910",
   "metadata": {},
   "outputs": [],
   "source": [
    "# Rango de cada columna \n",
    "print(f'El rango de Edad es : {round(max(edad) - min(edad))}')\n",
    "print(f'El rango de Altura es : {round(max(altura) - min(altura),2)}')\n",
    "print(f'El rango de Peso es : {round(max(peso) - min(peso))}')"
   ]
  },
  {
   "cell_type": "markdown",
   "id": "606ff322",
   "metadata": {},
   "source": [
    "# <font color='purple'> ------------ TERCERA PARTE ------------  </font>"
   ]
  },
  {
   "cell_type": "markdown",
   "id": "e5c518c8",
   "metadata": {},
   "source": [
    "## <font color='DARK ORANGE'> 3.2 IMPORTACION DEL DATA FRAME </font>"
   ]
  },
  {
   "cell_type": "code",
   "execution_count": null,
   "id": "ed7f5f8e",
   "metadata": {},
   "outputs": [],
   "source": [
    "df_3 = pd.read_csv('ejemplo_data2.csv',encoding = 'utf-8',)\n",
    "df_4 = df_3.copy()"
   ]
  },
  {
   "cell_type": "code",
   "execution_count": null,
   "id": "cbd289f7",
   "metadata": {},
   "outputs": [],
   "source": [
    "df_3.columns"
   ]
  },
  {
   "cell_type": "markdown",
   "id": "e42decff",
   "metadata": {},
   "source": [
    "##  <font color='DARK ORANGE'> 3.3. VARIABLES NUMERICAS </font>"
   ]
  },
  {
   "cell_type": "code",
   "execution_count": null,
   "id": "2c52c91b",
   "metadata": {},
   "outputs": [],
   "source": [
    "# NUMEROS PERDIDOS \n",
    "print('Cantidad de NAN por columnas')\n",
    "print(' ')\n",
    "print(df_3.isnull().sum())\n",
    "print(' ')\n",
    "print('Total de NAN en DataFrame',df_3.isnull().sum().sum())"
   ]
  },
  {
   "cell_type": "code",
   "execution_count": null,
   "id": "bfdf93bd",
   "metadata": {},
   "outputs": [],
   "source": [
    "# Imputamos la variable Car con la media\n",
    "df_3['Car'].fillna(df_3['Car'].mean(), inplace=True)\n",
    "print(\"valores perdidos en Car: \" + \n",
    "      str(df_3['Car'].isnull().sum()))"
   ]
  },
  {
   "cell_type": "code",
   "execution_count": null,
   "id": "1c2ec85a",
   "metadata": {},
   "outputs": [],
   "source": [
    "# Imputamos la variable BuildingArea con la moda\n",
    "df_3['BuildingArea'].fillna(df_3['BuildingArea'].mode()[0], inplace=True)\n",
    "print(\"Valores perdidos en BuildingArea: \" + \n",
    "      str(df_3['BuildingArea'].isnull().sum()))"
   ]
  },
  {
   "cell_type": "code",
   "execution_count": null,
   "id": "6a38eff8",
   "metadata": {},
   "outputs": [],
   "source": [
    "# Imputamos la variable BuildingArea con la moda\n",
    "df_3['YearBuilt'].fillna(df_3['YearBuilt'].mode()[0], inplace=True)\n",
    "print(\"Valores perdidos en YearBuilt: \" + \n",
    "      str(df_3['YearBuilt'].isnull().sum()))"
   ]
  },
  {
   "cell_type": "code",
   "execution_count": null,
   "id": "e53b599a",
   "metadata": {},
   "outputs": [],
   "source": [
    "print('Total de NAN en DataFrame',df_3.isnull().sum().sum())"
   ]
  },
  {
   "cell_type": "markdown",
   "id": "2113123d",
   "metadata": {},
   "source": [
    "##  <font color='DARK ORANGE'> 3.3. METODO fillna() </font>"
   ]
  },
  {
   "cell_type": "code",
   "execution_count": null,
   "id": "24708792",
   "metadata": {},
   "outputs": [],
   "source": [
    "# copia del df_3\n",
    "print('Total de NAN en DataFrame',df_4.isnull().sum().sum())\n",
    "print('------------------------------------------')\n",
    "print(df_3.isnull().sum())"
   ]
  },
  {
   "cell_type": "code",
   "execution_count": null,
   "id": "9363512e",
   "metadata": {},
   "outputs": [],
   "source": [
    "df_4['Car'].fillna(df_4.groupby('Bathroom')['Car'].transform('median'),inplace= True)"
   ]
  },
  {
   "cell_type": "code",
   "execution_count": null,
   "id": "e8469672",
   "metadata": {},
   "outputs": [],
   "source": [
    "print('Total de NAN en DataFrame',df_4.isnull().sum().sum())"
   ]
  },
  {
   "cell_type": "markdown",
   "id": "50508f2a",
   "metadata": {},
   "source": [
    "## <font color='DARK ORANGE'> 3.4 VARIABLES CATEGORICAS </font>"
   ]
  },
  {
   "cell_type": "code",
   "execution_count": null,
   "id": "6d60fac0",
   "metadata": {},
   "outputs": [],
   "source": [
    "lista = list(df_4.columns)\n",
    "lm = list(df_4.columns)"
   ]
  },
  {
   "cell_type": "code",
   "execution_count": null,
   "id": "bd3fe465",
   "metadata": {},
   "outputs": [],
   "source": [
    "l = []\n",
    "for i in range(len(lista)):\n",
    "    for k in lista:\n",
    "        lista[i] = pd.get_dummies(df_4[k])\n",
    "        l.append(lista[i])"
   ]
  },
  {
   "cell_type": "code",
   "execution_count": null,
   "id": "66f6b2c4",
   "metadata": {},
   "outputs": [],
   "source": [
    "# Lista de categorias\n",
    "lm"
   ]
  },
  {
   "cell_type": "code",
   "execution_count": null,
   "id": "1473d374",
   "metadata": {},
   "outputs": [],
   "source": [
    "# MOTRAR LAS VARIABLES ATEGORICAS \n",
    "l[1]"
   ]
  },
  {
   "cell_type": "markdown",
   "id": "e79c6afb",
   "metadata": {},
   "source": [
    "# <font color='purple'> ------------ CUARTA PARTE ------------  </font>"
   ]
  },
  {
   "cell_type": "markdown",
   "id": "841706c4",
   "metadata": {},
   "source": [
    "## <font color='DARK ORANGE'> 4.2 BASE DE DATOS </font>"
   ]
  },
  {
   "cell_type": "code",
   "execution_count": null,
   "id": "08d209e6",
   "metadata": {},
   "outputs": [],
   "source": [
    "mean = [0, 0, 0] \n",
    "matrix = [[1, 0, 0], [0, 1, 0], [0, 0, 1]] \n",
    "gfg = np.random.multivariate_normal(mean, matrix, 12) "
   ]
  },
  {
   "cell_type": "code",
   "execution_count": null,
   "id": "04e2c46d",
   "metadata": {},
   "outputs": [],
   "source": [
    "#BASE DE DATOS\n",
    "gfg"
   ]
  },
  {
   "cell_type": "markdown",
   "id": "802a94c2",
   "metadata": {},
   "source": [
    "## <font color='DARK ORANGE'> 4.3 BASE DE DATOS DISTRIBUYA NORMAL BIVARIADA </font>"
   ]
  },
  {
   "cell_type": "code",
   "execution_count": 87,
   "id": "2f2bc460",
   "metadata": {},
   "outputs": [],
   "source": [
    "x1 = []\n",
    "y1 = []\n",
    "\n",
    "for i in range(15):\n",
    "    x1.append(np.random.randint(6,14))\n",
    "\n",
    "for k in x1:\n",
    "    y1.append(k-1.2)\n",
    "\n",
    "df_b = pd.DataFrame(list(zip(x1,y1)),columns = ['dato 1', 'dato 2'] )\n",
    "df_b.index +=1"
   ]
  },
  {
   "cell_type": "code",
   "execution_count": 88,
   "id": "68a616b0",
   "metadata": {},
   "outputs": [
    {
     "data": {
      "text/html": [
       "<div>\n",
       "<style scoped>\n",
       "    .dataframe tbody tr th:only-of-type {\n",
       "        vertical-align: middle;\n",
       "    }\n",
       "\n",
       "    .dataframe tbody tr th {\n",
       "        vertical-align: top;\n",
       "    }\n",
       "\n",
       "    .dataframe thead th {\n",
       "        text-align: right;\n",
       "    }\n",
       "</style>\n",
       "<table border=\"1\" class=\"dataframe\">\n",
       "  <thead>\n",
       "    <tr style=\"text-align: right;\">\n",
       "      <th></th>\n",
       "      <th>dato 1</th>\n",
       "      <th>dato 2</th>\n",
       "    </tr>\n",
       "  </thead>\n",
       "  <tbody>\n",
       "    <tr>\n",
       "      <th>1</th>\n",
       "      <td>11</td>\n",
       "      <td>9.8</td>\n",
       "    </tr>\n",
       "    <tr>\n",
       "      <th>2</th>\n",
       "      <td>6</td>\n",
       "      <td>4.8</td>\n",
       "    </tr>\n",
       "    <tr>\n",
       "      <th>3</th>\n",
       "      <td>10</td>\n",
       "      <td>8.8</td>\n",
       "    </tr>\n",
       "    <tr>\n",
       "      <th>4</th>\n",
       "      <td>13</td>\n",
       "      <td>11.8</td>\n",
       "    </tr>\n",
       "    <tr>\n",
       "      <th>5</th>\n",
       "      <td>11</td>\n",
       "      <td>9.8</td>\n",
       "    </tr>\n",
       "    <tr>\n",
       "      <th>6</th>\n",
       "      <td>10</td>\n",
       "      <td>8.8</td>\n",
       "    </tr>\n",
       "    <tr>\n",
       "      <th>7</th>\n",
       "      <td>12</td>\n",
       "      <td>10.8</td>\n",
       "    </tr>\n",
       "    <tr>\n",
       "      <th>8</th>\n",
       "      <td>9</td>\n",
       "      <td>7.8</td>\n",
       "    </tr>\n",
       "    <tr>\n",
       "      <th>9</th>\n",
       "      <td>10</td>\n",
       "      <td>8.8</td>\n",
       "    </tr>\n",
       "    <tr>\n",
       "      <th>10</th>\n",
       "      <td>8</td>\n",
       "      <td>6.8</td>\n",
       "    </tr>\n",
       "    <tr>\n",
       "      <th>11</th>\n",
       "      <td>9</td>\n",
       "      <td>7.8</td>\n",
       "    </tr>\n",
       "    <tr>\n",
       "      <th>12</th>\n",
       "      <td>9</td>\n",
       "      <td>7.8</td>\n",
       "    </tr>\n",
       "    <tr>\n",
       "      <th>13</th>\n",
       "      <td>12</td>\n",
       "      <td>10.8</td>\n",
       "    </tr>\n",
       "    <tr>\n",
       "      <th>14</th>\n",
       "      <td>8</td>\n",
       "      <td>6.8</td>\n",
       "    </tr>\n",
       "    <tr>\n",
       "      <th>15</th>\n",
       "      <td>13</td>\n",
       "      <td>11.8</td>\n",
       "    </tr>\n",
       "  </tbody>\n",
       "</table>\n",
       "</div>"
      ],
      "text/plain": [
       "    dato 1  dato 2\n",
       "1       11     9.8\n",
       "2        6     4.8\n",
       "3       10     8.8\n",
       "4       13    11.8\n",
       "5       11     9.8\n",
       "6       10     8.8\n",
       "7       12    10.8\n",
       "8        9     7.8\n",
       "9       10     8.8\n",
       "10       8     6.8\n",
       "11       9     7.8\n",
       "12       9     7.8\n",
       "13      12    10.8\n",
       "14       8     6.8\n",
       "15      13    11.8"
      ]
     },
     "execution_count": 88,
     "metadata": {},
     "output_type": "execute_result"
    }
   ],
   "source": [
    "df_b"
   ]
  },
  {
   "cell_type": "markdown",
   "id": "7229c106",
   "metadata": {},
   "source": [
    "## <font color='DARK ORANGE'> 4.4 GRÁFICO DE DISPERCION  </font>"
   ]
  },
  {
   "cell_type": "code",
   "execution_count": 115,
   "id": "3c13a4e4",
   "metadata": {},
   "outputs": [
    {
     "data": {
      "text/plain": [
       "(0.0, 18.0)"
      ]
     },
     "execution_count": 115,
     "metadata": {},
     "output_type": "execute_result"
    },
    {
     "data": {
      "image/png": "[encoded data removed]",
      "text/plain": [
       "<Figure size 504x504 with 1 Axes>"
      ]
     },
     "metadata": {
      "needs_background": "light"
     },
     "output_type": "display_data"
    }
   ],
   "source": [
    "#sns.jointplot( data = df_b)\n",
    "fig, ax = plt.subplots(figsize= (7,7))\n",
    "sns.scatterplot(ax = ax, data = df_b)\n",
    "ax.set_xlabel('dato 1',size = 12)\n",
    "ax.set_ylabel('dato 2',size = 12)\n",
    "ax.set_title(' dato 1 vs dato 2', size = 24)\n",
    "ax.set_xlim(0,16)\n",
    "ax.set_ylim(0,18)\n"
   ]
  },
  {
   "cell_type": "markdown",
   "id": "8acc9bae",
   "metadata": {},
   "source": [
    "## <font color='DARK ORANGE'> 4.5 BOXPLOT </font>"
   ]
  },
  {
   "cell_type": "code",
   "execution_count": 116,
   "id": "0620c386",
   "metadata": {},
   "outputs": [
    {
     "data": {
      "image/png": "[encoded data removed]",
      "text/plain": [
       "<Figure size 432x288 with 1 Axes>"
      ]
     },
     "metadata": {
      "needs_background": "light"
     },
     "output_type": "display_data"
    }
   ],
   "source": [
    "bx = sns.boxplot( data=df_b)"
   ]
  },
  {
   "cell_type": "code",
   "execution_count": null,
   "id": "4d4cbebb",
   "metadata": {},
   "outputs": [],
   "source": []
  }
 ],
 "metadata": {
  "kernelspec": {
   "display_name": "Python 3 (ipykernel)",
   "language": "python",
   "name": "python3"
  },
  "language_info": {
   "codemirror_mode": {
    "name": "ipython",
    "version": 3
   },
   "file_extension": ".py",
   "mimetype": "text/x-python",
   "name": "python",
   "nbconvert_exporter": "python",
   "pygments_lexer": "ipython3",
   "version": "3.10.4"
  }
 },
 "nbformat": 4,
 "nbformat_minor": 5
}
